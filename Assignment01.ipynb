{
 "cells": [
  {
   "cell_type": "code",
   "execution_count": null,
   "metadata": {},
   "outputs": [],
   "source": [
    "egg=input(\"Enter the number of steps from egg to frog: \")\n",
    "num=int(egg)*\"-->\"\n",
    "print(\"Here is the expected life cycle:\")\n",
    "print(\"egg\"+num+\"frog\")"
   ]
  },
  {
   "cell_type": "code",
   "execution_count": null,
   "metadata": {},
   "outputs": [],
   "source": [
    "book=input(\"Enter your favourite book name: \")\n",
    "author=input(\"Enter the author's name: \")\n",
    "print()\n",
    "print(\"Your favourite book is \\\"\"+book+\"\\\" written by \\\"\" +author+ \"\\\".\")"
   ]
  },
  {
   "cell_type": "code",
   "execution_count": null,
   "metadata": {},
   "outputs": [],
   "source": [
    "num_puppies=input(\"Enter the number of puppies: \")\n",
    "num_kitties=input(\"Enter the number of kitties: \")\n",
    "print(\"You have adopted \"+num_puppies+\" puppies and \"+num_kitties+\" kitties.\")\n",
    "insurance_puppies=int(num_puppies)*40\n",
    "insurance_kitties=int(num_kitties)*30\n",
    "insurance_sum=insurance_puppies+insurance_kitties\n",
    "\n",
    "print(\"The insurance fee is $\"+str(insurance_sum)+\".\")\n"
   ]
  },
  {
   "cell_type": "code",
   "execution_count": null,
   "metadata": {},
   "outputs": [],
   "source": [
    "first_course=input(\"Enter the first subject code: \")\n",
    "first_subject=input(\"Enter the first subject name: \")\n",
    "first_credit_point=input(\"Enter the first credit point: \")\n",
    "second_course=input(\"Enter the second subject code: \")\n",
    "second_subject=input(\"Enter the second subject name: \")\n",
    "second_credit_point=input(\"Enter the second credit point: \")\n",
    "print(\"Your enrolment details are as follows:\")\n",
    "total_credits=int(first_credit_point)+int(second_credit_point)\n",
    "print(\"{0:<10}{1:<40}{2:^15}\".format(\"Code\",\"Name\",\"Credit\"))\n",
    "print(\"{0:<10}{1:<40}{2:^15}\".format(first_course,first_subject,first_credit_point))\n",
    "print(\"{0:<10}{1:<40}{2:^15}\".format(second_course,second_subject,second_credit_point))\n",
    "print(\"{0:<10}{1:<40}{2:^15}\".format(\"Total\",\"\",total_credits))"
   ]
  }
 ],
 "metadata": {
  "language_info": {
   "name": "python"
  },
  "orig_nbformat": 4
 },
 "nbformat": 4,
 "nbformat_minor": 2
}
